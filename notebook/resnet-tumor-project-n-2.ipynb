{
 "cells": [
  {
   "cell_type": "code",
   "execution_count": null,
   "metadata": {},
   "outputs": [],
   "source": [
    "model_path = \"/kaggle/working//models/vgg_for_brain_tumor-v2.h5\"\n",
    "path = \"/kaggle/input/multi-cancer/Multi Cancer/Brain Cancer\""
   ]
  },
  {
   "cell_type": "code",
   "execution_count": null,
   "metadata": {},
   "outputs": [],
   "source": [
    "#create folder for save augmented images\n",
    "def create_dir(path):\n",
    "    if not os.path.exists(path):\n",
    "        os.makedirs(path)"
   ]
  },
  {
   "cell_type": "code",
   "execution_count": null,
   "metadata": {},
   "outputs": [],
   "source": [
    "def load_data(path, split=0.1):\n",
    "    images = shuffle(glob(os.path.join(path, \"*\", \"*.jpg\")))\n",
    "    split_rate = int(len(images) * split)\n",
    "    train, valid = train_test_split(images, test_size=split_rate, random_state=42)\n",
    "    train, test = train_test_split(train, test_size=split_rate, random_state=42)\n",
    "    return train, valid, test"
   ]
  },
  {
   "cell_type": "code",
   "execution_count": null,
   "metadata": {},
   "outputs": [],
   "source": [
    "def process_image(path):\n",
    "    #decode the path\n",
    "    path = path.decode()\n",
    "    #read image\n",
    "    image = cv2.imread(path, cv2.IMREAD_COLOR)\n",
    "    #resize the image\n",
    "    image = cv2.resize(image, [224, 224])\n",
    "    #scale the image\n",
    "    image = image / 255.0\n",
    "    #change the data type of image\n",
    "    image = image.astype(np.float32)\n",
    "\n",
    "    #labeling the image\n",
    "    class_name = path.split(\"/\")[-2]\n",
    "    class_idx = class_names.index(class_name)\n",
    "    class_idx = np.array(class_idx, dtype=np.int32)\n",
    "\n",
    "    return image, class_idx"
   ]
  },
  {
   "cell_type": "code",
   "execution_count": null,
   "metadata": {},
   "outputs": [],
   "source": [
    "def parse(path):\n",
    "    image, labels = tf.numpy_function(process_image, [path], (tf.float32, tf.int32))\n",
    "    labels = tf.one_hot(labels, 3)\n",
    "    image.set_shape([224, 224, 3])\n",
    "    labels.set_shape(3)\n",
    "  \n",
    "    return image, labels"
   ]
  },
  {
   "cell_type": "code",
   "execution_count": null,
   "metadata": {},
   "outputs": [],
   "source": [
    "#tensorflow dataset\n",
    "def tf_dataset(images, batch=8):\n",
    "    dataset = tf.data.Dataset.from_tensor_slices((images))\n",
    "    dataset = dataset.map(parse)\n",
    "    dataset = dataset.batch(batch_size)\n",
    "    dataset = dataset.prefetch(8)\n",
    "    return dataset"
   ]
  }
 ],
 "metadata": {
  "language_info": {
   "name": "python"
  },
  "orig_nbformat": 4
 },
 "nbformat": 4,
 "nbformat_minor": 2
}
