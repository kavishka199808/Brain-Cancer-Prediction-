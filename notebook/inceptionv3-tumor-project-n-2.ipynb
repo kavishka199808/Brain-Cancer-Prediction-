{
 "cells": [
  {
   "cell_type": "code",
   "execution_count": null,
   "metadata": {},
   "outputs": [],
   "source": [
    "!pip install tensorflow==2.10.1"
   ]
  },
  {
   "cell_type": "code",
   "execution_count": null,
   "metadata": {},
   "outputs": [],
   "source": [
    "#importing libraries\n",
    "import os\n",
    "import cv2\n",
    "import itertools\n",
    "import numpy as np\n",
    "import matplotlib.pyplot as plt\n",
    "import tensorflow as tf\n",
    "from sklearn.utils import shuffle\n",
    "from glob import glob\n",
    "from tensorflow.keras import layers\n",
    "from tensorflow.keras.models import Model\n",
    "from tensorflow.keras.callbacks import*\n",
    "from sklearn.model_selection import train_test_split\n",
    "from sklearn import metrics\n",
    "from sklearn.metrics import confusion_matrix\n",
    "from tensorflow.keras.applications import InceptionV3"
   ]
  },
  {
   "cell_type": "code",
   "execution_count": null,
   "metadata": {},
   "outputs": [],
   "source": [
    "#parameters\n",
    "H, W = 224, 224\n",
    "channel = 3\n",
    "IMAGE_SHAPE = [224, 224]\n",
    "num_class = 3\n",
    "batch_size = 64\n",
    "class_names = [\"brain_glioma\", \"brain_menin\", \"brain_tumor\"]"
   ]
  },
  {
   "cell_type": "code",
   "execution_count": null,
   "metadata": {},
   "outputs": [],
   "source": [
    "model_path = \"/kaggle/working//models/vgg_for_brain_tumor-v2.h5\"\n",
    "path = \"/kaggle/input/multi-cancer/Multi Cancer/Brain Cancer\""
   ]
  },
  {
   "cell_type": "markdown",
   "metadata": {},
   "source": [
    "# Functions"
   ]
  },
  {
   "cell_type": "code",
   "execution_count": null,
   "metadata": {},
   "outputs": [],
   "source": [
    "#create folder for save augmented images\n",
    "def create_dir(path):\n",
    "    if not os.path.exists(path):\n",
    "        os.makedirs(path)"
   ]
  },
  {
   "cell_type": "code",
   "execution_count": null,
   "metadata": {},
   "outputs": [],
   "source": [
    "def load_data(path, split=0.1):\n",
    "    images = shuffle(glob(os.path.join(path, \"*\", \"*.jpg\")))\n",
    "    split_rate = int(len(images) * split)\n",
    "    train, valid = train_test_split(images, test_size=split_rate, random_state=42)\n",
    "    train, test = train_test_split(train, test_size=split_rate, random_state=42)\n",
    "    return train, valid, test"
   ]
  },
  {
   "cell_type": "code",
   "execution_count": null,
   "metadata": {},
   "outputs": [],
   "source": [
    "def process_image(path):\n",
    "    #decode the path\n",
    "    path = path.decode()\n",
    "    #read image\n",
    "    image = cv2.imread(path, cv2.IMREAD_COLOR)\n",
    "    #resize the image\n",
    "    image = cv2.resize(image, [224, 224])\n",
    "    #scale the image\n",
    "    image = image / 255.0\n",
    "    #change the data type of image\n",
    "    image = image.astype(np.float32)\n",
    "\n",
    "    #labeling the image\n",
    "    class_name = path.split(\"/\")[-2]\n",
    "    class_idx = class_names.index(class_name)\n",
    "    class_idx = np.array(class_idx, dtype=np.int32)\n",
    "\n",
    "    return image, class_idx"
   ]
  },
  {
   "cell_type": "code",
   "execution_count": null,
   "metadata": {},
   "outputs": [],
   "source": [
    "def parse(path):\n",
    "    image, labels = tf.numpy_function(process_image, [path], (tf.float32, tf.int32))\n",
    "    labels = tf.one_hot(labels, 3)\n",
    "    image.set_shape([224, 224, 3])\n",
    "    labels.set_shape(3)\n",
    "  \n",
    "    return image, labels"
   ]
  },
  {
   "cell_type": "code",
   "execution_count": null,
   "metadata": {},
   "outputs": [],
   "source": [
    "#tensorflow dataset\n",
    "def tf_dataset(images, batch=8):\n",
    "    dataset = tf.data.Dataset.from_tensor_slices((images))\n",
    "    dataset = dataset.map(parse)\n",
    "    dataset = dataset.batch(batch_size)\n",
    "    dataset = dataset.prefetch(8)\n",
    "    return dataset"
   ]
  },
  {
   "cell_type": "markdown",
   "metadata": {},
   "source": [
    "# Model | Inception-V3"
   ]
  },
  {
   "cell_type": "code",
   "execution_count": null,
   "metadata": {},
   "outputs": [],
   "source": [
    "incp = InceptionV3(input_shape=IMAGE_SHAPE+[channel], weights='imagenet', include_top=False)"
   ]
  },
  {
   "cell_type": "code",
   "execution_count": null,
   "metadata": {},
   "outputs": [],
   "source": [
    "for layer in incp.layers:\n",
    "    layer.trainable = False"
   ]
  },
  {
   "cell_type": "code",
   "execution_count": null,
   "metadata": {},
   "outputs": [],
   "source": [
    "x = layers.Flatten()(incp.output)"
   ]
  }
 ],
 "metadata": {
  "kernelspec": {
   "display_name": "Python 3",
   "language": "python",
   "name": "python3"
  },
  "language_info": {
   "codemirror_mode": {
    "name": "ipython",
    "version": 3
   },
   "file_extension": ".py",
   "mimetype": "text/x-python",
   "name": "python",
   "nbconvert_exporter": "python",
   "pygments_lexer": "ipython3",
   "version": "3.10.4"
  },
  "orig_nbformat": 4
 },
 "nbformat": 4,
 "nbformat_minor": 2
}
