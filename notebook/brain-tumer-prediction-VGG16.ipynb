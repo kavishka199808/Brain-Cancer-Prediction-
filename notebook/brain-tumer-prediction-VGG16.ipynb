{
 "cells": [
  {
   "cell_type": "code",
   "execution_count": null,
   "metadata": {},
   "outputs": [],
   "source": [
    "import os \n",
    "from glob import glob\n",
    "import cv2\n",
    "import numpy as np\n",
    "import matplotlib.pyplot as plt"
   ]
  },
  {
   "cell_type": "code",
   "execution_count": null,
   "metadata": {},
   "outputs": [],
   "source": [
    "H, W = 256, 256\n",
    "classes = [\"brain_glioma\",\"brain_menin\",\"brain_tumor\"]"
   ]
  },
  {
   "cell_type": "code",
   "execution_count": null,
   "metadata": {},
   "outputs": [],
   "source": [
    "path = \"/kaggle/input/multi-cancer/Multi Cancer/Brain Cancer\""
   ]
  },
  {
   "cell_type": "code",
   "execution_count": null,
   "metadata": {},
   "outputs": [],
   "source": [
    "def load_data(path):\n",
    "    files = glob(os.path.join(path,\"*\",\"*\"))\n",
    "    return files"
   ]
  },
  {
   "cell_type": "code",
   "execution_count": null,
   "metadata": {},
   "outputs": [],
   "source": [
    "files =load_data(path)"
   ]
  },
  {
   "cell_type": "code",
   "execution_count": null,
   "metadata": {},
   "outputs": [],
   "source": [
    "def preprocess_data(image):\n",
    "    img = cv2.imread(image,cv2.IMREAD_COLOR)\n",
    "    img = cv2.resize(img,(H.W))\n",
    "    img = img / 255.0\n",
    "    img = img.astype(np.float32)\n",
    "\n",
    "    lable = image.split(\"/\")[-2]\n",
    "    class_idx = classes_name.index[lable]\n",
    "\n",
    "    return img,class_idx"
   ]
  },
  {
   "cell_type": "code",
   "execution_count": null,
   "metadata": {},
   "outputs": [],
   "source": [
    "img,class_idx = preprocess_data(files[0])"
   ]
  },
  {
   "cell_type": "code",
   "execution_count": null,
   "metadata": {},
   "outputs": [],
   "source": [
    "classes = np.array(class_idx,np.float32)"
   ]
  },
  {
   "cell_type": "code",
   "execution_count": null,
   "metadata": {},
   "outputs": [],
   "source": [
    "def parse(path):\n",
    "    images,labels = tf.numpy_function(preprocess_data,[path],[tf.float32,tf.int32])\n",
    "    labels = tf.one_hot(labels,3)\n",
    "    images.set_shape([256,256,3])\n",
    "    labels.set_shape(3)\n",
    "\n",
    "    return images,labels"
   ]
  }
 ],
 "metadata": {
  "language_info": {
   "name": "python"
  },
  "orig_nbformat": 4
 },
 "nbformat": 4,
 "nbformat_minor": 2
}
